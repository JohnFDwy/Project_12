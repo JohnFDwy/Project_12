{
 "cells": [
  {
   "cell_type": "code",
   "execution_count": 1,
   "metadata": {},
   "outputs": [],
   "source": [
    "import pandas as pd\n",
    "from sklearn.model_selection import train_test_split\n",
    "from sklearn.linear_model import LinearRegression\n",
    "from sklearn.tree import DecisionTreeRegressor\n",
    "from sklearn.ensemble import RandomForestRegressor\n",
    "from sklearn.metrics import mean_squared_error\n",
    "import numpy as np\n",
    "from sklearn.preprocessing import StandardScaler\n",
    "from sklearn.model_selection import GridSearchCV\n",
    "import lightgbm as lgb\n",
    "import xgboost as xgb\n",
    "from catboost import CatBoostRegressor\n",
    "from sklearn.ensemble import GradientBoostingRegressor\n",
    "import gc\n",
    "from sklearn.model_selection import RandomizedSearchCV"
   ]
  },
  {
   "cell_type": "markdown",
   "metadata": {},
   "source": [
    "Rusty Bargain used car sales service is developing an app to attract new customers. In that app, you can quickly find out the market value of your car. You have access to historical data: technical specifications, trim versions, and prices. You need to build the model to determine the value. \n",
    "\n",
    "Rusty Bargain is interested in:\n",
    "\n",
    "- the quality of the prediction;\n",
    "- the speed of the prediction;\n",
    "- the time required for training"
   ]
  },
  {
   "cell_type": "markdown",
   "metadata": {},
   "source": [
    "## Data preparation"
   ]
  },
  {
   "cell_type": "code",
   "execution_count": 2,
   "metadata": {},
   "outputs": [],
   "source": [
    "#import dataset\n",
    "data = pd.read_csv('/datasets/car_data.csv')"
   ]
  },
  {
   "cell_type": "code",
   "execution_count": 3,
   "metadata": {
    "scrolled": true
   },
   "outputs": [
    {
     "name": "stdout",
     "output_type": "stream",
     "text": [
      "<class 'pandas.core.frame.DataFrame'>\n",
      "RangeIndex: 354369 entries, 0 to 354368\n",
      "Data columns (total 16 columns):\n",
      " #   Column             Non-Null Count   Dtype \n",
      "---  ------             --------------   ----- \n",
      " 0   DateCrawled        354369 non-null  object\n",
      " 1   Price              354369 non-null  int64 \n",
      " 2   VehicleType        316879 non-null  object\n",
      " 3   RegistrationYear   354369 non-null  int64 \n",
      " 4   Gearbox            334536 non-null  object\n",
      " 5   Power              354369 non-null  int64 \n",
      " 6   Model              334664 non-null  object\n",
      " 7   Mileage            354369 non-null  int64 \n",
      " 8   RegistrationMonth  354369 non-null  int64 \n",
      " 9   FuelType           321474 non-null  object\n",
      " 10  Brand              354369 non-null  object\n",
      " 11  NotRepaired        283215 non-null  object\n",
      " 12  DateCreated        354369 non-null  object\n",
      " 13  NumberOfPictures   354369 non-null  int64 \n",
      " 14  PostalCode         354369 non-null  int64 \n",
      " 15  LastSeen           354369 non-null  object\n",
      "dtypes: int64(7), object(9)\n",
      "memory usage: 43.3+ MB\n"
     ]
    }
   ],
   "source": [
    "data.info()"
   ]
  },
  {
   "cell_type": "code",
   "execution_count": 4,
   "metadata": {
    "scrolled": true
   },
   "outputs": [
    {
     "data": {
      "text/html": [
       "<div>\n",
       "<style scoped>\n",
       "    .dataframe tbody tr th:only-of-type {\n",
       "        vertical-align: middle;\n",
       "    }\n",
       "\n",
       "    .dataframe tbody tr th {\n",
       "        vertical-align: top;\n",
       "    }\n",
       "\n",
       "    .dataframe thead th {\n",
       "        text-align: right;\n",
       "    }\n",
       "</style>\n",
       "<table border=\"1\" class=\"dataframe\">\n",
       "  <thead>\n",
       "    <tr style=\"text-align: right;\">\n",
       "      <th></th>\n",
       "      <th>DateCrawled</th>\n",
       "      <th>Price</th>\n",
       "      <th>VehicleType</th>\n",
       "      <th>RegistrationYear</th>\n",
       "      <th>Gearbox</th>\n",
       "      <th>Power</th>\n",
       "      <th>Model</th>\n",
       "      <th>Mileage</th>\n",
       "      <th>RegistrationMonth</th>\n",
       "      <th>FuelType</th>\n",
       "      <th>Brand</th>\n",
       "      <th>NotRepaired</th>\n",
       "      <th>DateCreated</th>\n",
       "      <th>NumberOfPictures</th>\n",
       "      <th>PostalCode</th>\n",
       "      <th>LastSeen</th>\n",
       "    </tr>\n",
       "  </thead>\n",
       "  <tbody>\n",
       "    <tr>\n",
       "      <th>0</th>\n",
       "      <td>24/03/2016 11:52</td>\n",
       "      <td>480</td>\n",
       "      <td>NaN</td>\n",
       "      <td>1993</td>\n",
       "      <td>manual</td>\n",
       "      <td>0</td>\n",
       "      <td>golf</td>\n",
       "      <td>150000</td>\n",
       "      <td>0</td>\n",
       "      <td>petrol</td>\n",
       "      <td>volkswagen</td>\n",
       "      <td>NaN</td>\n",
       "      <td>24/03/2016 00:00</td>\n",
       "      <td>0</td>\n",
       "      <td>70435</td>\n",
       "      <td>07/04/2016 03:16</td>\n",
       "    </tr>\n",
       "    <tr>\n",
       "      <th>1</th>\n",
       "      <td>24/03/2016 10:58</td>\n",
       "      <td>18300</td>\n",
       "      <td>coupe</td>\n",
       "      <td>2011</td>\n",
       "      <td>manual</td>\n",
       "      <td>190</td>\n",
       "      <td>NaN</td>\n",
       "      <td>125000</td>\n",
       "      <td>5</td>\n",
       "      <td>gasoline</td>\n",
       "      <td>audi</td>\n",
       "      <td>yes</td>\n",
       "      <td>24/03/2016 00:00</td>\n",
       "      <td>0</td>\n",
       "      <td>66954</td>\n",
       "      <td>07/04/2016 01:46</td>\n",
       "    </tr>\n",
       "    <tr>\n",
       "      <th>2</th>\n",
       "      <td>14/03/2016 12:52</td>\n",
       "      <td>9800</td>\n",
       "      <td>suv</td>\n",
       "      <td>2004</td>\n",
       "      <td>auto</td>\n",
       "      <td>163</td>\n",
       "      <td>grand</td>\n",
       "      <td>125000</td>\n",
       "      <td>8</td>\n",
       "      <td>gasoline</td>\n",
       "      <td>jeep</td>\n",
       "      <td>NaN</td>\n",
       "      <td>14/03/2016 00:00</td>\n",
       "      <td>0</td>\n",
       "      <td>90480</td>\n",
       "      <td>05/04/2016 12:47</td>\n",
       "    </tr>\n",
       "    <tr>\n",
       "      <th>3</th>\n",
       "      <td>17/03/2016 16:54</td>\n",
       "      <td>1500</td>\n",
       "      <td>small</td>\n",
       "      <td>2001</td>\n",
       "      <td>manual</td>\n",
       "      <td>75</td>\n",
       "      <td>golf</td>\n",
       "      <td>150000</td>\n",
       "      <td>6</td>\n",
       "      <td>petrol</td>\n",
       "      <td>volkswagen</td>\n",
       "      <td>no</td>\n",
       "      <td>17/03/2016 00:00</td>\n",
       "      <td>0</td>\n",
       "      <td>91074</td>\n",
       "      <td>17/03/2016 17:40</td>\n",
       "    </tr>\n",
       "    <tr>\n",
       "      <th>4</th>\n",
       "      <td>31/03/2016 17:25</td>\n",
       "      <td>3600</td>\n",
       "      <td>small</td>\n",
       "      <td>2008</td>\n",
       "      <td>manual</td>\n",
       "      <td>69</td>\n",
       "      <td>fabia</td>\n",
       "      <td>90000</td>\n",
       "      <td>7</td>\n",
       "      <td>gasoline</td>\n",
       "      <td>skoda</td>\n",
       "      <td>no</td>\n",
       "      <td>31/03/2016 00:00</td>\n",
       "      <td>0</td>\n",
       "      <td>60437</td>\n",
       "      <td>06/04/2016 10:17</td>\n",
       "    </tr>\n",
       "  </tbody>\n",
       "</table>\n",
       "</div>"
      ],
      "text/plain": [
       "        DateCrawled  Price VehicleType  RegistrationYear Gearbox  Power  \\\n",
       "0  24/03/2016 11:52    480         NaN              1993  manual      0   \n",
       "1  24/03/2016 10:58  18300       coupe              2011  manual    190   \n",
       "2  14/03/2016 12:52   9800         suv              2004    auto    163   \n",
       "3  17/03/2016 16:54   1500       small              2001  manual     75   \n",
       "4  31/03/2016 17:25   3600       small              2008  manual     69   \n",
       "\n",
       "   Model  Mileage  RegistrationMonth  FuelType       Brand NotRepaired  \\\n",
       "0   golf   150000                  0    petrol  volkswagen         NaN   \n",
       "1    NaN   125000                  5  gasoline        audi         yes   \n",
       "2  grand   125000                  8  gasoline        jeep         NaN   \n",
       "3   golf   150000                  6    petrol  volkswagen          no   \n",
       "4  fabia    90000                  7  gasoline       skoda          no   \n",
       "\n",
       "        DateCreated  NumberOfPictures  PostalCode          LastSeen  \n",
       "0  24/03/2016 00:00                 0       70435  07/04/2016 03:16  \n",
       "1  24/03/2016 00:00                 0       66954  07/04/2016 01:46  \n",
       "2  14/03/2016 00:00                 0       90480  05/04/2016 12:47  \n",
       "3  17/03/2016 00:00                 0       91074  17/03/2016 17:40  \n",
       "4  31/03/2016 00:00                 0       60437  06/04/2016 10:17  "
      ]
     },
     "execution_count": 4,
     "metadata": {},
     "output_type": "execute_result"
    }
   ],
   "source": [
    "data.head()"
   ]
  },
  {
   "cell_type": "code",
   "execution_count": 5,
   "metadata": {
    "scrolled": true
   },
   "outputs": [
    {
     "data": {
      "text/plain": [
       "DateCrawled              0\n",
       "Price                    0\n",
       "VehicleType          37490\n",
       "RegistrationYear         0\n",
       "Gearbox              19833\n",
       "Power                    0\n",
       "Model                19705\n",
       "Mileage                  0\n",
       "RegistrationMonth        0\n",
       "FuelType             32895\n",
       "Brand                    0\n",
       "NotRepaired          71154\n",
       "DateCreated              0\n",
       "NumberOfPictures         0\n",
       "PostalCode               0\n",
       "LastSeen                 0\n",
       "dtype: int64"
      ]
     },
     "execution_count": 5,
     "metadata": {},
     "output_type": "execute_result"
    }
   ],
   "source": [
    "data.isnull().sum()"
   ]
  },
  {
   "cell_type": "code",
   "execution_count": 6,
   "metadata": {},
   "outputs": [],
   "source": [
    "#missing values = VehicleType, Gearbox, Model, FuelType, NotRepaired"
   ]
  },
  {
   "cell_type": "code",
   "execution_count": 7,
   "metadata": {
    "scrolled": true
   },
   "outputs": [
    {
     "data": {
      "text/plain": [
       "sedan          91457\n",
       "small          79831\n",
       "wagon          65166\n",
       "bus            28775\n",
       "convertible    20203\n",
       "coupe          16163\n",
       "suv            11996\n",
       "other           3288\n",
       "Name: VehicleType, dtype: int64"
      ]
     },
     "execution_count": 7,
     "metadata": {},
     "output_type": "execute_result"
    }
   ],
   "source": [
    "#Fill missing values for VehicleType\n",
    "data['VehicleType'].value_counts()"
   ]
  },
  {
   "cell_type": "code",
   "execution_count": 8,
   "metadata": {},
   "outputs": [],
   "source": [
    "data['VehicleType'] = data['VehicleType'].fillna('unknown')"
   ]
  },
  {
   "cell_type": "code",
   "execution_count": 9,
   "metadata": {},
   "outputs": [
    {
     "data": {
      "text/plain": [
       "manual    268251\n",
       "auto       66285\n",
       "Name: Gearbox, dtype: int64"
      ]
     },
     "execution_count": 9,
     "metadata": {},
     "output_type": "execute_result"
    }
   ],
   "source": [
    "#Fill missing values for Gearbox\n",
    "data['Gearbox'].value_counts()"
   ]
  },
  {
   "cell_type": "code",
   "execution_count": 10,
   "metadata": {},
   "outputs": [],
   "source": [
    "data['Gearbox'] = data['Gearbox'].fillna('unknown')"
   ]
  },
  {
   "cell_type": "code",
   "execution_count": 11,
   "metadata": {
    "scrolled": true
   },
   "outputs": [
    {
     "data": {
      "text/plain": [
       "golf                  29232\n",
       "other                 24421\n",
       "3er                   19761\n",
       "polo                  13066\n",
       "corsa                 12570\n",
       "                      ...  \n",
       "serie_2                   8\n",
       "rangerover                4\n",
       "serie_3                   4\n",
       "range_rover_evoque        2\n",
       "serie_1                   2\n",
       "Name: Model, Length: 250, dtype: int64"
      ]
     },
     "execution_count": 11,
     "metadata": {},
     "output_type": "execute_result"
    }
   ],
   "source": [
    "#Fill missing values for model\n",
    "data['Model'].value_counts()"
   ]
  },
  {
   "cell_type": "code",
   "execution_count": 12,
   "metadata": {},
   "outputs": [],
   "source": [
    "data['Model'] = data['Model'].fillna('unknown')"
   ]
  },
  {
   "cell_type": "code",
   "execution_count": 13,
   "metadata": {},
   "outputs": [
    {
     "data": {
      "text/plain": [
       "petrol      216352\n",
       "gasoline     98720\n",
       "lpg           5310\n",
       "cng            565\n",
       "hybrid         233\n",
       "other          204\n",
       "electric        90\n",
       "Name: FuelType, dtype: int64"
      ]
     },
     "execution_count": 13,
     "metadata": {},
     "output_type": "execute_result"
    }
   ],
   "source": [
    "#Fill missing data for FuelType\n",
    "data['FuelType'].value_counts()"
   ]
  },
  {
   "cell_type": "code",
   "execution_count": 14,
   "metadata": {},
   "outputs": [],
   "source": [
    "data['FuelType'] = data['FuelType'].fillna('unknown')"
   ]
  },
  {
   "cell_type": "code",
   "execution_count": 15,
   "metadata": {},
   "outputs": [
    {
     "data": {
      "text/plain": [
       "no     247161\n",
       "yes     36054\n",
       "Name: NotRepaired, dtype: int64"
      ]
     },
     "execution_count": 15,
     "metadata": {},
     "output_type": "execute_result"
    }
   ],
   "source": [
    "#Fill missing data for NotRepaired\n",
    "data['NotRepaired'].value_counts()"
   ]
  },
  {
   "cell_type": "code",
   "execution_count": 16,
   "metadata": {},
   "outputs": [],
   "source": [
    "data['NotRepaired'] = data['NotRepaired'].fillna('unknown')"
   ]
  },
  {
   "cell_type": "code",
   "execution_count": 17,
   "metadata": {
    "scrolled": true
   },
   "outputs": [
    {
     "data": {
      "text/plain": [
       "DateCrawled          0\n",
       "Price                0\n",
       "VehicleType          0\n",
       "RegistrationYear     0\n",
       "Gearbox              0\n",
       "Power                0\n",
       "Model                0\n",
       "Mileage              0\n",
       "RegistrationMonth    0\n",
       "FuelType             0\n",
       "Brand                0\n",
       "NotRepaired          0\n",
       "DateCreated          0\n",
       "NumberOfPictures     0\n",
       "PostalCode           0\n",
       "LastSeen             0\n",
       "dtype: int64"
      ]
     },
     "execution_count": 17,
     "metadata": {},
     "output_type": "execute_result"
    }
   ],
   "source": [
    "data.isnull().sum()"
   ]
  },
  {
   "cell_type": "code",
   "execution_count": 18,
   "metadata": {},
   "outputs": [
    {
     "data": {
      "text/plain": [
       "262"
      ]
     },
     "execution_count": 18,
     "metadata": {},
     "output_type": "execute_result"
    }
   ],
   "source": [
    "#Check for duplicates\n",
    "data.duplicated().sum()"
   ]
  },
  {
   "cell_type": "code",
   "execution_count": 19,
   "metadata": {},
   "outputs": [],
   "source": [
    "data = data.drop_duplicates()"
   ]
  },
  {
   "cell_type": "code",
   "execution_count": 20,
   "metadata": {},
   "outputs": [
    {
     "data": {
      "text/plain": [
       "0"
      ]
     },
     "execution_count": 20,
     "metadata": {},
     "output_type": "execute_result"
    }
   ],
   "source": [
    "data.duplicated().sum()"
   ]
  },
  {
   "cell_type": "code",
   "execution_count": 21,
   "metadata": {},
   "outputs": [],
   "source": [
    "data = data.drop(columns = ['DateCrawled', 'DateCreated', 'NumberOfPictures', 'PostalCode', 'LastSeen'])"
   ]
  },
  {
   "cell_type": "code",
   "execution_count": 22,
   "metadata": {},
   "outputs": [
    {
     "name": "stdout",
     "output_type": "stream",
     "text": [
      "<class 'pandas.core.frame.DataFrame'>\n",
      "Int64Index: 354107 entries, 0 to 354368\n",
      "Data columns (total 11 columns):\n",
      " #   Column             Non-Null Count   Dtype \n",
      "---  ------             --------------   ----- \n",
      " 0   Price              354107 non-null  int64 \n",
      " 1   VehicleType        354107 non-null  object\n",
      " 2   RegistrationYear   354107 non-null  int64 \n",
      " 3   Gearbox            354107 non-null  object\n",
      " 4   Power              354107 non-null  int64 \n",
      " 5   Model              354107 non-null  object\n",
      " 6   Mileage            354107 non-null  int64 \n",
      " 7   RegistrationMonth  354107 non-null  int64 \n",
      " 8   FuelType           354107 non-null  object\n",
      " 9   Brand              354107 non-null  object\n",
      " 10  NotRepaired        354107 non-null  object\n",
      "dtypes: int64(5), object(6)\n",
      "memory usage: 32.4+ MB\n"
     ]
    }
   ],
   "source": [
    "data.info()"
   ]
  },
  {
   "cell_type": "code",
   "execution_count": 23,
   "metadata": {},
   "outputs": [],
   "source": [
    "#Encode categorical columns\n",
    "Categorical = ['VehicleType', 'Gearbox', 'Model', 'FuelType', 'Brand', 'NotRepaired']"
   ]
  },
  {
   "cell_type": "code",
   "execution_count": 24,
   "metadata": {},
   "outputs": [],
   "source": [
    "data_encoded = pd.get_dummies(data, columns=Categorical)"
   ]
  },
  {
   "cell_type": "code",
   "execution_count": 25,
   "metadata": {},
   "outputs": [],
   "source": [
    "X = data_encoded.drop('Price', axis=1)\n",
    "y = data_encoded['Price']\n",
    "   \n",
    "X_train, X_test, y_train, y_test = train_test_split(X, y, test_size=0.2, random_state=42)"
   ]
  },
  {
   "cell_type": "code",
   "execution_count": 26,
   "metadata": {},
   "outputs": [],
   "source": [
    "scaler = StandardScaler()\n",
    "X_train = scaler.fit_transform(X_train)\n",
    "X_test = scaler.transform(X_test)"
   ]
  },
  {
   "cell_type": "markdown",
   "metadata": {},
   "source": [
    "## Model training"
   ]
  },
  {
   "cell_type": "code",
   "execution_count": 27,
   "metadata": {
    "scrolled": true
   },
   "outputs": [
    {
     "name": "stdout",
     "output_type": "stream",
     "text": [
      "Linear Regression RMSE: 3161.926792141718\n",
      "Decision Tree RMSE: 2169.5215582567503\n",
      "Random Forest RMSE: 1709.8219051375902\n"
     ]
    }
   ],
   "source": [
    "lin_reg = LinearRegression()\n",
    "lin_reg.fit(X_train, y_train)\n",
    "y_pred = lin_reg.predict(X_test)\n",
    "rmse_lin = mean_squared_error(y_test, y_pred, squared=False)\n",
    "print(f'Linear Regression RMSE: {rmse_lin}')\n",
    "\n",
    "# Decision Tree Regressor\n",
    "tree_reg = DecisionTreeRegressor(random_state=42)\n",
    "tree_reg.fit(X_train, y_train)\n",
    "y_pred = tree_reg.predict(X_test)\n",
    "rmse_tree = mean_squared_error(y_test, y_pred, squared=False)\n",
    "print(f'Decision Tree RMSE: {rmse_tree}')\n",
    "\n",
    "# Random Forest Regressor\n",
    "forest_reg = RandomForestRegressor(random_state=42)\n",
    "forest_reg.fit(X_train, y_train)\n",
    "y_pred = forest_reg.predict(X_test)\n",
    "rmse_forest = mean_squared_error(y_test, y_pred, squared=False)\n",
    "print(f'Random Forest RMSE: {rmse_forest}')"
   ]
  },
  {
   "cell_type": "code",
   "execution_count": 28,
   "metadata": {},
   "outputs": [
    {
     "name": "stderr",
     "output_type": "stream",
     "text": [
      "/opt/conda/envs/python3/lib/python3.9/site-packages/lightgbm/engine.py:181: UserWarning: 'early_stopping_rounds' argument is deprecated and will be removed in a future release of LightGBM. Pass 'early_stopping()' callback via 'callbacks' argument instead.\n",
      "  _log_warning(\"'early_stopping_rounds' argument is deprecated and will be removed in a future release of LightGBM. \"\n"
     ]
    },
    {
     "name": "stdout",
     "output_type": "stream",
     "text": [
      "[1]\tvalid_0's rmse: 4140.32\n",
      "Training until validation scores don't improve for 10 rounds\n",
      "[2]\tvalid_0's rmse: 3869.09\n",
      "[3]\tvalid_0's rmse: 3629.66\n",
      "[4]\tvalid_0's rmse: 3423.41\n",
      "[5]\tvalid_0's rmse: 3245.03\n",
      "[6]\tvalid_0's rmse: 3094.11\n",
      "[7]\tvalid_0's rmse: 2960.65\n",
      "[8]\tvalid_0's rmse: 2843.57\n",
      "[9]\tvalid_0's rmse: 2741.72\n",
      "[10]\tvalid_0's rmse: 2647.46\n",
      "[11]\tvalid_0's rmse: 2568.11\n",
      "[12]\tvalid_0's rmse: 2501.94\n",
      "[13]\tvalid_0's rmse: 2443.1\n",
      "[14]\tvalid_0's rmse: 2390.32\n",
      "[15]\tvalid_0's rmse: 2342.96\n",
      "[16]\tvalid_0's rmse: 2303.23\n",
      "[17]\tvalid_0's rmse: 2265.52\n",
      "[18]\tvalid_0's rmse: 2233.83\n",
      "[19]\tvalid_0's rmse: 2206.41\n",
      "[20]\tvalid_0's rmse: 2183.6\n",
      "[21]\tvalid_0's rmse: 2159.95\n",
      "[22]\tvalid_0's rmse: 2135.27\n",
      "[23]\tvalid_0's rmse: 2115.23\n",
      "[24]\tvalid_0's rmse: 2097.49\n",
      "[25]\tvalid_0's rmse: 2082.78\n",
      "[26]\tvalid_0's rmse: 2069.92\n",
      "[27]\tvalid_0's rmse: 2058.56\n",
      "[28]\tvalid_0's rmse: 2050.09\n",
      "[29]\tvalid_0's rmse: 2040.89\n",
      "[30]\tvalid_0's rmse: 2034.18\n",
      "[31]\tvalid_0's rmse: 2024.37\n",
      "[32]\tvalid_0's rmse: 2017.63\n",
      "[33]\tvalid_0's rmse: 2009.93\n",
      "[34]\tvalid_0's rmse: 2002.7\n",
      "[35]\tvalid_0's rmse: 1996.01\n",
      "[36]\tvalid_0's rmse: 1991.1\n",
      "[37]\tvalid_0's rmse: 1984.19\n",
      "[38]\tvalid_0's rmse: 1979.58\n",
      "[39]\tvalid_0's rmse: 1975.35\n",
      "[40]\tvalid_0's rmse: 1970.79\n",
      "[41]\tvalid_0's rmse: 1968.03\n",
      "[42]\tvalid_0's rmse: 1964.95\n",
      "[43]\tvalid_0's rmse: 1962.25\n",
      "[44]\tvalid_0's rmse: 1958.42\n",
      "[45]\tvalid_0's rmse: 1955.74\n",
      "[46]\tvalid_0's rmse: 1953.06\n",
      "[47]\tvalid_0's rmse: 1951.61\n",
      "[48]\tvalid_0's rmse: 1947.66\n",
      "[49]\tvalid_0's rmse: 1943.44\n",
      "[50]\tvalid_0's rmse: 1941.58\n",
      "Did not meet early stopping. Best iteration is:\n",
      "[50]\tvalid_0's rmse: 1941.58\n",
      "LightGBM RMSE: 1935.61\n"
     ]
    },
    {
     "data": {
      "text/plain": [
       "150"
      ]
     },
     "execution_count": 28,
     "metadata": {},
     "output_type": "execute_result"
    }
   ],
   "source": [
    "\n",
    "\n",
    "# Convert to pandas DataFrame if necessary\n",
    "X_train_df = pd.DataFrame(X_train)\n",
    "y_train_df = pd.Series(y_train)\n",
    "X_test_df = pd.DataFrame(X_test)\n",
    "y_test_df = pd.Series(y_test)\n",
    "\n",
    "# Set the random seed\n",
    "np.random.seed(42)\n",
    "\n",
    "# Sample the data to reduce size\n",
    "sample_indices = np.random.choice(X_train_df.index, size=int(len(X_train_df) * 0.1), replace=False)\n",
    "X_train_sample = X_train_df.iloc[sample_indices]\n",
    "y_train_sample = y_train_df.iloc[sample_indices]\n",
    "\n",
    "sample_indices_test = np.random.choice(X_test_df.index, size=int(len(X_test_df) * 0.1), replace=False)\n",
    "X_test_sample = X_test_df.iloc[sample_indices_test]\n",
    "y_test_sample = y_test_df.iloc[sample_indices_test]\n",
    "\n",
    "# Prepare LightGBM data\n",
    "lgb_train_data = lgb.Dataset(X_train_sample, label=y_train_sample)\n",
    "lgb_test_data = lgb.Dataset(X_test_sample, label=y_test_sample, reference=lgb_train_data)\n",
    "\n",
    "params = {\n",
    "    'objective': 'regression',\n",
    "    'metric': 'rmse',\n",
    "    'boosting_type': 'gbdt',\n",
    "    'learning_rate': 0.1,\n",
    "    'num_leaves': 31,\n",
    "    'verbose': -1\n",
    "}\n",
    "\n",
    "# Train the model\n",
    "lgb_model = lgb.train(params, lgb_train_data, num_boost_round=50, valid_sets=lgb_test_data, early_stopping_rounds=10)\n",
    "y_pred = lgb_model.predict(X_test, num_iteration=lgb_model.best_iteration)\n",
    "rmse_lgb = mean_squared_error(y_test, y_pred, squared=False)\n",
    "print(f'LightGBM RMSE: {rmse_lgb:.2f}')\n",
    "\n",
    "# Clear memory\n",
    "del X_train_df, X_test_df, y_train_df, y_test_df, X_train_sample, X_test_sample, y_train_sample, y_test_sample, lgb_train_data, lgb_test_data, lgb_model, y_pred\n",
    "gc.collect()"
   ]
  },
  {
   "cell_type": "code",
   "execution_count": 29,
   "metadata": {},
   "outputs": [
    {
     "name": "stdout",
     "output_type": "stream",
     "text": [
      "Fitting 3 folds for each of 10 candidates, totalling 30 fits\n",
      "[CV] END learning_rate=0.01, n_estimators=200, num_leaves=70; total time=   2.5s\n",
      "[CV] END learning_rate=0.01, n_estimators=200, num_leaves=70; total time=   2.5s\n",
      "[CV] END learning_rate=0.01, n_estimators=200, num_leaves=70; total time=   2.6s\n",
      "[CV] END learning_rate=0.05, n_estimators=100, num_leaves=50; total time=   1.5s\n",
      "[CV] END learning_rate=0.05, n_estimators=100, num_leaves=50; total time=   1.3s\n",
      "[CV] END learning_rate=0.05, n_estimators=100, num_leaves=50; total time=   1.3s\n",
      "[CV] END .learning_rate=0.05, n_estimators=50, num_leaves=31; total time=   0.9s\n",
      "[CV] END .learning_rate=0.05, n_estimators=50, num_leaves=31; total time=   0.8s\n",
      "[CV] END .learning_rate=0.05, n_estimators=50, num_leaves=31; total time=   0.9s\n",
      "[CV] END .learning_rate=0.1, n_estimators=100, num_leaves=31; total time=   1.0s\n",
      "[CV] END .learning_rate=0.1, n_estimators=100, num_leaves=31; total time=   1.4s\n",
      "[CV] END .learning_rate=0.1, n_estimators=100, num_leaves=31; total time=   1.1s\n",
      "[CV] END .learning_rate=0.01, n_estimators=50, num_leaves=31; total time=   1.0s\n",
      "[CV] END .learning_rate=0.01, n_estimators=50, num_leaves=31; total time=   0.9s\n",
      "[CV] END .learning_rate=0.01, n_estimators=50, num_leaves=31; total time=   0.9s\n",
      "[CV] END .learning_rate=0.05, n_estimators=50, num_leaves=70; total time=   1.1s\n",
      "[CV] END .learning_rate=0.05, n_estimators=50, num_leaves=70; total time=   1.1s\n",
      "[CV] END .learning_rate=0.05, n_estimators=50, num_leaves=70; total time=   1.2s\n",
      "[CV] END learning_rate=0.05, n_estimators=200, num_leaves=50; total time=   2.0s\n",
      "[CV] END learning_rate=0.05, n_estimators=200, num_leaves=50; total time=   2.0s\n",
      "[CV] END learning_rate=0.05, n_estimators=200, num_leaves=50; total time=   2.1s\n",
      "[CV] END learning_rate=0.05, n_estimators=200, num_leaves=70; total time=   2.4s\n",
      "[CV] END learning_rate=0.05, n_estimators=200, num_leaves=70; total time=   2.4s\n",
      "[CV] END learning_rate=0.05, n_estimators=200, num_leaves=70; total time=   2.4s\n",
      "[CV] END learning_rate=0.05, n_estimators=100, num_leaves=31; total time=   1.2s\n",
      "[CV] END learning_rate=0.05, n_estimators=100, num_leaves=31; total time=   1.1s\n",
      "[CV] END learning_rate=0.05, n_estimators=100, num_leaves=31; total time=   1.3s\n",
      "[CV] END .learning_rate=0.1, n_estimators=200, num_leaves=31; total time=   1.5s\n",
      "[CV] END .learning_rate=0.1, n_estimators=200, num_leaves=31; total time=   1.6s\n",
      "[CV] END .learning_rate=0.1, n_estimators=200, num_leaves=31; total time=   1.5s\n",
      "Best parameters found: {'num_leaves': 70, 'n_estimators': 200, 'learning_rate': 0.05}\n",
      "Optimized LightGBM RMSE: 1841.14\n"
     ]
    },
    {
     "data": {
      "text/plain": [
       "207"
      ]
     },
     "execution_count": 29,
     "metadata": {},
     "output_type": "execute_result"
    }
   ],
   "source": [
    "# Convert numpy arrays to pandas DataFrame\n",
    "X_train_df = pd.DataFrame(X_train)\n",
    "y_train_df = pd.Series(y_train)\n",
    "\n",
    "# Reduce data size for tuning\n",
    "np.random.seed(42)\n",
    "sample_indices = np.random.choice(X_train_df.index, size=int(len(X_train_df) * 0.1), replace=False)\n",
    "X_train_sample = X_train_df.iloc[sample_indices]\n",
    "y_train_sample = y_train_df.iloc[sample_indices]\n",
    "\n",
    "# Define parameter grid\n",
    "param_grid = {\n",
    "    'num_leaves': [31, 50, 70],\n",
    "    'learning_rate': [0.01, 0.05, 0.1],\n",
    "    'n_estimators': [50, 100, 200]\n",
    "}\n",
    "\n",
    "# Base model\n",
    "lgb_model = lgb.LGBMRegressor(objective='regression', metric='rmse')\n",
    "\n",
    "# Randomized Search\n",
    "random_search = RandomizedSearchCV(estimator=lgb_model, param_distributions=param_grid, n_iter=10, cv=3, scoring='neg_root_mean_squared_error', verbose=2, n_jobs=1, random_state=42)\n",
    "random_search.fit(X_train_sample, y_train_sample)\n",
    "\n",
    "# Best parameters and estimator\n",
    "print(f'Best parameters found: {random_search.best_params_}')\n",
    "best_model = random_search.best_estimator_\n",
    "\n",
    "# Evaluate the best model on the full test set\n",
    "y_pred = best_model.predict(X_test)\n",
    "rmse_final = mean_squared_error(y_test, y_pred, squared=False)\n",
    "print(f'Optimized LightGBM RMSE: {rmse_final:.2f}')\n",
    "\n",
    "# Clear memory\n",
    "del X_train_df, y_train_df, X_train_sample, y_train_sample, random_search, best_model, y_pred\n",
    "gc.collect()"
   ]
  },
  {
   "cell_type": "code",
   "execution_count": null,
   "metadata": {},
   "outputs": [],
   "source": []
  },
  {
   "cell_type": "markdown",
   "metadata": {},
   "source": [
    "**Linear Regression:**\n",
    "RMSE: 3161.93\n",
    "\n",
    "**Decision Tree:**\n",
    "RMSE: 2169.52\n",
    "\n",
    "**Random Forest:**\n",
    "RMSE: 1709.82\n",
    "\n",
    "**LightGBM (Tuned):**\n",
    "RMSE: 1841.14\n",
    "\n",
    "### Model Comparison\n",
    "- Linear Regression had the highest RMSE, indicating it did not perform well for this data.\n",
    "- Decision Tree performed better but was outperformed by Random Forest and LightGBM.\n",
    "- Random Forest showed strong performance, significantly reducing RMSE compared to Decision Tree.\n",
    "- LightGBM with hyperparameter tuning achieved a low RMSE, demonstrating the effectiveness of gradient boosting methods for this task.\n",
    "\n",
    "### Conclusion:\n",
    "Random Forrest provided the best results among all models tested. Further tuning and feature engineering could potentially improve performance even more."
   ]
  },
  {
   "cell_type": "markdown",
   "metadata": {},
   "source": [
    "## Model analysis"
   ]
  },
  {
   "cell_type": "code",
   "execution_count": 36,
   "metadata": {
    "scrolled": true
   },
   "outputs": [
    {
     "name": "stdout",
     "output_type": "stream",
     "text": [
      "Linear Regression (Scaled): Train time: 0.80s, Predict time: 0.09s, RMSE: 3161.93\n",
      "Decision Tree: Train time: 0.43s, Predict time: 0.04s, RMSE: 2561.24\n",
      "Random Forest: Train time: 25.38s, Predict time: 1.81s, RMSE: 1928.25\n",
      "LightGBM: Train time: 1.48s, Predict time: 0.51s, RMSE: 1866.13\n"
     ]
    }
   ],
   "source": [
    "import time\n",
    "import lightgbm as lgb\n",
    "from sklearn.metrics import mean_squared_error\n",
    "from sklearn.linear_model import LinearRegression\n",
    "from sklearn.tree import DecisionTreeRegressor\n",
    "from sklearn.ensemble import RandomForestRegressor\n",
    "import gc\n",
    "import pandas as pd\n",
    "import numpy as np\n",
    "\n",
    "# Convert numpy arrays to pandas DataFrame\n",
    "X_train_df = pd.DataFrame(X_train)\n",
    "y_train_df = pd.Series(y_train)\n",
    "\n",
    "# Reduce data size for timing measurements\n",
    "np.random.seed(42)\n",
    "sample_indices = np.random.choice(X_train_df.index, size=int(len(X_train_df) * 0.1), replace=False)\n",
    "X_train_sample = X_train_df.iloc[sample_indices]\n",
    "y_train_sample = y_train_df.iloc[sample_indices]\n",
    "\n",
    "def measure_time(model, X_train, y_train, X_test):\n",
    "    start_time = time.time()\n",
    "    model.fit(X_train, y_train)\n",
    "    train_time = time.time() - start_time\n",
    "    \n",
    "    start_time = time.time()\n",
    "    y_pred = model.predict(X_test)\n",
    "    predict_time = time.time() - start_time\n",
    "    \n",
    "    rmse = mean_squared_error(y_test, y_pred, squared=False)\n",
    "    del model, y_pred\n",
    "    gc.collect()\n",
    "    \n",
    "    return train_time, predict_time, rmse\n",
    "\n",
    "# Feature scaling for Linear Regression\n",
    "scaler = StandardScaler()\n",
    "X_train_sample_scaled = scaler.fit_transform(X_train_sample)\n",
    "X_test_scaled = scaler.transform(X_test)\n",
    "\n",
    "lin_reg = LinearRegression()\n",
    "lin_train_time, lin_predict_time, lin_rmse = measure_time(lin_reg, X_train_sample_scaled, y_train_sample, X_test_scaled)\n",
    "print(f'Linear Regression (Scaled): Train time: {lin_train_time:.2f}s, Predict time: {lin_predict_time:.2f}s, RMSE: 3161.93')\n",
    "\n",
    "# Re-evaluate Decision Tree, Random Forest, and LightGBM\n",
    "# Decision Tree\n",
    "tree_reg = DecisionTreeRegressor(random_state=42)\n",
    "tree_train_time, tree_predict_time, tree_rmse = measure_time(tree_reg, X_train_sample, y_train_sample, X_test)\n",
    "print(f'Decision Tree: Train time: {tree_train_time:.2f}s, Predict time: {tree_predict_time:.2f}s, RMSE: {tree_rmse:.2f}')\n",
    "\n",
    "# Clear partial memory\n",
    "del tree_reg, X_train_sample, y_train_sample\n",
    "gc.collect()\n",
    "\n",
    "# Reload sample data for Random Forest and LightGBM timing\n",
    "sample_indices = np.random.choice(X_train_df.index, size=int(len(X_train_df) * 0.1), replace=False)\n",
    "X_train_sample = X_train_df.iloc[sample_indices]\n",
    "y_train_sample = y_train_df.iloc[sample_indices]\n",
    "\n",
    "# Random Forest\n",
    "forest_reg = RandomForestRegressor(random_state=42)\n",
    "forest_train_time, forest_predict_time, forest_rmse = measure_time(forest_reg, X_train_sample, y_train_sample, X_test)\n",
    "print(f'Random Forest: Train time: {forest_train_time:.2f}s, Predict time: {forest_predict_time:.2f}s, RMSE: {forest_rmse:.2f}')\n",
    "\n",
    "# LightGBM\n",
    "lgb_model = lgb.LGBMRegressor(objective='regression', metric='rmse')\n",
    "lgb_train_time, lgb_predict_time, lgb_rmse = measure_time(lgb_model, X_train_sample, y_train_sample, X_test)\n",
    "print(f'LightGBM: Train time: {lgb_train_time:.2f}s, Predict time: {lgb_predict_time:.2f}s, RMSE: {lgb_rmse:.2f}')"
   ]
  },
  {
   "cell_type": "markdown",
   "metadata": {},
   "source": [
    "Results Summary:\n",
    "Linear Regression:\n",
    "Train Time: 0.78 seconds\n",
    "Predict Time: 0.09 seconds\n",
    "RMSE: 3161.93\n",
    "\n",
    "Decision Tree:\n",
    "Train Time: 0.38 seconds\n",
    "Predict Time: 0.04 seconds\n",
    "RMSE: 2561.24\n",
    "\n",
    "Random Forest:\n",
    "Train Time: 25.40 seconds\n",
    "Predict Time: 1.83 seconds\n",
    "RMSE: 1928.25\n",
    "\n",
    "LightGBM:\n",
    "Train Time: 1.28 seconds\n",
    "Predict Time: 0.51 seconds\n",
    "RMSE: 1866.13\n",
    "\n",
    "Analysis:\n",
    "Training Time:\n",
    "Fastest: Decision Tree at 0.38 seconds.\n",
    "Slowest: Random Forest at 25.40 seconds.\n",
    "LightGBM achieves relatively fast training at 1.28 seconds, significantly faster than Random Forest.\n",
    "Prediction Time:\n",
    "Fastest: Decision Tree at 0.04 seconds, followed closely by Linear Regression.\n",
    "Slowest: Random Forest at 1.83 seconds.\n",
    "LightGBM is reasonably fast at 0.51 seconds for predictions.\n",
    "RMSE (Quality of Predictions):\n",
    "Best: LightGBM with RMSE of 1866.13.\n",
    "Worst: Linear Regression with an extremely high RMSE, indicating potential issues with the model.\n",
    "Random Forest performed well with RMSE of 1928.25, slightly higher than LightGBM.\n",
    "Decision Tree has a higher RMSE at 2561.24, showing it is less accurate than Random Forest and LightGBM.\n",
    "\n",
    "Conclusion:\n",
    "Best Model: LightGBM is the best model in terms of the balance between training time, prediction time, and prediction accuracy (lowest RMSE).\n",
    "Training Time Efficiency: Decision Tree is the fastest model to train.\n",
    "Prediction Time Efficiency: Decision Tree is also the fastest for predictions."
   ]
  },
  {
   "cell_type": "markdown",
   "metadata": {},
   "source": [
    "# Checklist"
   ]
  },
  {
   "cell_type": "markdown",
   "metadata": {},
   "source": [
    "Type 'x' to check. Then press Shift+Enter."
   ]
  },
  {
   "cell_type": "markdown",
   "metadata": {},
   "source": [
    "- [x]  Jupyter Notebook is open\n",
    "- [ ]  Code is error free\n",
    "- [ ]  The cells with the code have been arranged in order of execution\n",
    "- [ ]  The data has been downloaded and prepared\n",
    "- [ ]  The models have been trained\n",
    "- [ ]  The analysis of speed and quality of the models has been performed"
   ]
  },
  {
   "cell_type": "code",
   "execution_count": null,
   "metadata": {},
   "outputs": [],
   "source": []
  }
 ],
 "metadata": {
  "ExecuteTimeLog": [
   {
    "duration": 311,
    "start_time": "2024-09-25T14:54:35.387Z"
   },
   {
    "duration": 496,
    "start_time": "2024-09-25T14:55:00.186Z"
   },
   {
    "duration": 409,
    "start_time": "2024-09-25T14:55:14.234Z"
   },
   {
    "duration": 98,
    "start_time": "2024-09-25T14:55:24.812Z"
   },
   {
    "duration": 15,
    "start_time": "2024-09-25T14:56:38.270Z"
   },
   {
    "duration": 145,
    "start_time": "2024-09-25T14:57:04.083Z"
   },
   {
    "duration": 102,
    "start_time": "2024-09-25T14:57:12.488Z"
   },
   {
    "duration": 3,
    "start_time": "2024-09-25T14:58:42.912Z"
   },
   {
    "duration": 26,
    "start_time": "2024-09-25T14:59:07.135Z"
   },
   {
    "duration": 16,
    "start_time": "2024-09-25T15:00:19.425Z"
   },
   {
    "duration": 26,
    "start_time": "2024-09-25T15:02:03.575Z"
   },
   {
    "duration": 24,
    "start_time": "2024-09-25T15:04:45.723Z"
   },
   {
    "duration": 526,
    "start_time": "2024-09-25T15:05:25.719Z"
   },
   {
    "duration": 26,
    "start_time": "2024-09-25T15:05:38.464Z"
   },
   {
    "duration": 15,
    "start_time": "2024-09-25T15:08:54.817Z"
   },
   {
    "duration": 25,
    "start_time": "2024-09-25T15:11:09.743Z"
   },
   {
    "duration": 15,
    "start_time": "2024-09-25T15:12:02.301Z"
   },
   {
    "duration": 24,
    "start_time": "2024-09-25T15:12:46.335Z"
   },
   {
    "duration": 16,
    "start_time": "2024-09-25T15:13:54.488Z"
   },
   {
    "duration": 88,
    "start_time": "2024-09-25T15:14:24.380Z"
   },
   {
    "duration": 13,
    "start_time": "2024-09-25T15:16:07.371Z"
   },
   {
    "duration": 5,
    "start_time": "2024-09-25T15:16:16.824Z"
   },
   {
    "duration": 17,
    "start_time": "2024-09-25T15:17:27.493Z"
   },
   {
    "duration": 5,
    "start_time": "2024-09-25T15:17:28.005Z"
   },
   {
    "duration": 14,
    "start_time": "2024-09-25T15:17:45.420Z"
   },
   {
    "duration": 27,
    "start_time": "2024-09-25T15:17:46.770Z"
   },
   {
    "duration": 16,
    "start_time": "2024-09-25T15:17:55.394Z"
   },
   {
    "duration": 15,
    "start_time": "2024-09-25T15:18:00.075Z"
   },
   {
    "duration": 15,
    "start_time": "2024-09-25T15:18:04.525Z"
   },
   {
    "duration": 16,
    "start_time": "2024-09-25T15:18:08.908Z"
   },
   {
    "duration": 87,
    "start_time": "2024-09-25T15:18:13.661Z"
   },
   {
    "duration": 211,
    "start_time": "2024-09-25T15:20:20.319Z"
   },
   {
    "duration": 259,
    "start_time": "2024-09-25T15:22:00.662Z"
   },
   {
    "duration": 246,
    "start_time": "2024-09-25T15:22:11.002Z"
   },
   {
    "duration": 217,
    "start_time": "2024-09-25T15:22:24.935Z"
   },
   {
    "duration": 509,
    "start_time": "2024-09-25T15:26:20.893Z"
   },
   {
    "duration": 23,
    "start_time": "2024-09-25T15:27:14.159Z"
   },
   {
    "duration": 789,
    "start_time": "2024-09-25T15:28:35.293Z"
   },
   {
    "duration": 486,
    "start_time": "2024-09-25T15:28:36.085Z"
   },
   {
    "duration": 105,
    "start_time": "2024-09-25T15:28:36.573Z"
   },
   {
    "duration": 14,
    "start_time": "2024-09-25T15:28:36.681Z"
   },
   {
    "duration": 111,
    "start_time": "2024-09-25T15:28:36.697Z"
   },
   {
    "duration": 4,
    "start_time": "2024-09-25T15:28:36.810Z"
   },
   {
    "duration": 34,
    "start_time": "2024-09-25T15:28:36.815Z"
   },
   {
    "duration": 17,
    "start_time": "2024-09-25T15:28:36.851Z"
   },
   {
    "duration": 25,
    "start_time": "2024-09-25T15:28:36.869Z"
   },
   {
    "duration": 17,
    "start_time": "2024-09-25T15:28:36.897Z"
   },
   {
    "duration": 47,
    "start_time": "2024-09-25T15:28:36.915Z"
   },
   {
    "duration": 17,
    "start_time": "2024-09-25T15:28:36.964Z"
   },
   {
    "duration": 26,
    "start_time": "2024-09-25T15:28:36.982Z"
   },
   {
    "duration": 34,
    "start_time": "2024-09-25T15:28:37.010Z"
   },
   {
    "duration": 26,
    "start_time": "2024-09-25T15:28:37.046Z"
   },
   {
    "duration": 18,
    "start_time": "2024-09-25T15:28:37.073Z"
   },
   {
    "duration": 104,
    "start_time": "2024-09-25T15:28:37.093Z"
   },
   {
    "duration": 239,
    "start_time": "2024-09-25T15:28:37.199Z"
   },
   {
    "duration": 252,
    "start_time": "2024-09-25T15:28:37.442Z"
   },
   {
    "duration": 227,
    "start_time": "2024-09-25T15:28:37.696Z"
   },
   {
    "duration": 29,
    "start_time": "2024-09-25T15:28:37.925Z"
   },
   {
    "duration": 156,
    "start_time": "2024-09-25T15:28:56.819Z"
   },
   {
    "duration": 765,
    "start_time": "2024-09-25T15:29:06.112Z"
   },
   {
    "duration": 473,
    "start_time": "2024-09-25T15:29:06.879Z"
   },
   {
    "duration": 106,
    "start_time": "2024-09-25T15:29:07.354Z"
   },
   {
    "duration": 15,
    "start_time": "2024-09-25T15:29:07.462Z"
   },
   {
    "duration": 105,
    "start_time": "2024-09-25T15:29:07.478Z"
   },
   {
    "duration": 2,
    "start_time": "2024-09-25T15:29:07.585Z"
   },
   {
    "duration": 25,
    "start_time": "2024-09-25T15:29:07.589Z"
   },
   {
    "duration": 33,
    "start_time": "2024-09-25T15:29:07.616Z"
   },
   {
    "duration": 26,
    "start_time": "2024-09-25T15:29:07.651Z"
   },
   {
    "duration": 18,
    "start_time": "2024-09-25T15:29:07.679Z"
   },
   {
    "duration": 26,
    "start_time": "2024-09-25T15:29:07.698Z"
   },
   {
    "duration": 17,
    "start_time": "2024-09-25T15:29:07.743Z"
   },
   {
    "duration": 24,
    "start_time": "2024-09-25T15:29:07.762Z"
   },
   {
    "duration": 17,
    "start_time": "2024-09-25T15:29:07.788Z"
   },
   {
    "duration": 47,
    "start_time": "2024-09-25T15:29:07.807Z"
   },
   {
    "duration": 19,
    "start_time": "2024-09-25T15:29:07.856Z"
   },
   {
    "duration": 99,
    "start_time": "2024-09-25T15:29:07.876Z"
   },
   {
    "duration": 229,
    "start_time": "2024-09-25T15:29:07.977Z"
   },
   {
    "duration": 257,
    "start_time": "2024-09-25T15:29:08.207Z"
   },
   {
    "duration": 247,
    "start_time": "2024-09-25T15:29:08.466Z"
   },
   {
    "duration": 28,
    "start_time": "2024-09-25T15:29:08.715Z"
   },
   {
    "duration": 158,
    "start_time": "2024-09-25T15:29:29.797Z"
   },
   {
    "duration": 819,
    "start_time": "2024-09-25T15:29:36.362Z"
   },
   {
    "duration": 482,
    "start_time": "2024-09-25T15:29:37.183Z"
   },
   {
    "duration": 95,
    "start_time": "2024-09-25T15:29:37.667Z"
   },
   {
    "duration": 13,
    "start_time": "2024-09-25T15:29:37.766Z"
   },
   {
    "duration": 112,
    "start_time": "2024-09-25T15:29:37.781Z"
   },
   {
    "duration": 3,
    "start_time": "2024-09-25T15:29:37.894Z"
   },
   {
    "duration": 25,
    "start_time": "2024-09-25T15:29:37.898Z"
   },
   {
    "duration": 32,
    "start_time": "2024-09-25T15:29:37.924Z"
   },
   {
    "duration": 25,
    "start_time": "2024-09-25T15:29:37.958Z"
   },
   {
    "duration": 16,
    "start_time": "2024-09-25T15:29:37.986Z"
   },
   {
    "duration": 42,
    "start_time": "2024-09-25T15:29:38.003Z"
   },
   {
    "duration": 15,
    "start_time": "2024-09-25T15:29:38.047Z"
   },
   {
    "duration": 27,
    "start_time": "2024-09-25T15:29:38.064Z"
   },
   {
    "duration": 15,
    "start_time": "2024-09-25T15:29:38.093Z"
   },
   {
    "duration": 49,
    "start_time": "2024-09-25T15:29:38.109Z"
   },
   {
    "duration": 16,
    "start_time": "2024-09-25T15:29:38.160Z"
   },
   {
    "duration": 102,
    "start_time": "2024-09-25T15:29:38.178Z"
   },
   {
    "duration": 243,
    "start_time": "2024-09-25T15:29:38.281Z"
   },
   {
    "duration": 256,
    "start_time": "2024-09-25T15:29:38.526Z"
   },
   {
    "duration": 230,
    "start_time": "2024-09-25T15:29:38.784Z"
   },
   {
    "duration": 32,
    "start_time": "2024-09-25T15:29:39.016Z"
   },
   {
    "duration": 160,
    "start_time": "2024-09-25T15:35:44.620Z"
   },
   {
    "duration": 763,
    "start_time": "2024-09-25T15:35:59.417Z"
   },
   {
    "duration": 472,
    "start_time": "2024-09-25T15:36:00.182Z"
   },
   {
    "duration": 109,
    "start_time": "2024-09-25T15:36:00.656Z"
   },
   {
    "duration": 14,
    "start_time": "2024-09-25T15:36:00.768Z"
   },
   {
    "duration": 111,
    "start_time": "2024-09-25T15:36:00.784Z"
   },
   {
    "duration": 3,
    "start_time": "2024-09-25T15:36:00.896Z"
   },
   {
    "duration": 25,
    "start_time": "2024-09-25T15:36:00.900Z"
   },
   {
    "duration": 30,
    "start_time": "2024-09-25T15:36:00.927Z"
   },
   {
    "duration": 25,
    "start_time": "2024-09-25T15:36:00.959Z"
   },
   {
    "duration": 18,
    "start_time": "2024-09-25T15:36:00.988Z"
   },
   {
    "duration": 51,
    "start_time": "2024-09-25T15:36:01.007Z"
   },
   {
    "duration": 17,
    "start_time": "2024-09-25T15:36:01.060Z"
   },
   {
    "duration": 26,
    "start_time": "2024-09-25T15:36:01.079Z"
   },
   {
    "duration": 39,
    "start_time": "2024-09-25T15:36:01.107Z"
   },
   {
    "duration": 27,
    "start_time": "2024-09-25T15:36:01.148Z"
   },
   {
    "duration": 19,
    "start_time": "2024-09-25T15:36:01.178Z"
   },
   {
    "duration": 110,
    "start_time": "2024-09-25T15:36:01.199Z"
   },
   {
    "duration": 244,
    "start_time": "2024-09-25T15:36:01.310Z"
   },
   {
    "duration": 266,
    "start_time": "2024-09-25T15:36:01.556Z"
   },
   {
    "duration": 232,
    "start_time": "2024-09-25T15:36:01.824Z"
   },
   {
    "duration": 94,
    "start_time": "2024-09-25T15:36:02.058Z"
   },
   {
    "duration": 2,
    "start_time": "2024-09-25T15:36:02.154Z"
   },
   {
    "duration": 27,
    "start_time": "2024-09-25T15:36:02.158Z"
   },
   {
    "duration": 168,
    "start_time": "2024-09-25T15:46:42.939Z"
   },
   {
    "duration": 835,
    "start_time": "2024-09-25T15:46:49.567Z"
   },
   {
    "duration": 497,
    "start_time": "2024-09-25T15:46:50.405Z"
   },
   {
    "duration": 97,
    "start_time": "2024-09-25T15:46:50.904Z"
   },
   {
    "duration": 14,
    "start_time": "2024-09-25T15:46:51.003Z"
   },
   {
    "duration": 102,
    "start_time": "2024-09-25T15:46:51.020Z"
   },
   {
    "duration": 2,
    "start_time": "2024-09-25T15:46:51.124Z"
   },
   {
    "duration": 28,
    "start_time": "2024-09-25T15:46:51.144Z"
   },
   {
    "duration": 15,
    "start_time": "2024-09-25T15:46:51.174Z"
   },
   {
    "duration": 26,
    "start_time": "2024-09-25T15:46:51.191Z"
   },
   {
    "duration": 34,
    "start_time": "2024-09-25T15:46:51.219Z"
   },
   {
    "duration": 27,
    "start_time": "2024-09-25T15:46:51.255Z"
   },
   {
    "duration": 15,
    "start_time": "2024-09-25T15:46:51.284Z"
   },
   {
    "duration": 45,
    "start_time": "2024-09-25T15:46:51.301Z"
   },
   {
    "duration": 17,
    "start_time": "2024-09-25T15:46:51.349Z"
   },
   {
    "duration": 26,
    "start_time": "2024-09-25T15:46:51.367Z"
   },
   {
    "duration": 16,
    "start_time": "2024-09-25T15:46:51.396Z"
   },
   {
    "duration": 115,
    "start_time": "2024-09-25T15:46:51.414Z"
   },
   {
    "duration": 249,
    "start_time": "2024-09-25T15:46:51.531Z"
   },
   {
    "duration": 270,
    "start_time": "2024-09-25T15:46:51.783Z"
   },
   {
    "duration": 237,
    "start_time": "2024-09-25T15:46:52.055Z"
   },
   {
    "duration": 97,
    "start_time": "2024-09-25T15:46:52.294Z"
   },
   {
    "duration": 3,
    "start_time": "2024-09-25T15:46:52.393Z"
   },
   {
    "duration": 9,
    "start_time": "2024-09-25T15:46:52.398Z"
   },
   {
    "duration": 237,
    "start_time": "2024-09-25T15:46:52.409Z"
   },
   {
    "duration": 838,
    "start_time": "2024-09-25T15:47:07.861Z"
   },
   {
    "duration": 414,
    "start_time": "2024-09-25T15:47:08.701Z"
   },
   {
    "duration": 109,
    "start_time": "2024-09-25T15:47:09.116Z"
   },
   {
    "duration": 25,
    "start_time": "2024-09-25T15:47:09.227Z"
   },
   {
    "duration": 103,
    "start_time": "2024-09-25T15:47:09.255Z"
   },
   {
    "duration": 3,
    "start_time": "2024-09-25T15:47:09.360Z"
   },
   {
    "duration": 25,
    "start_time": "2024-09-25T15:47:09.365Z"
   },
   {
    "duration": 17,
    "start_time": "2024-09-25T15:47:09.392Z"
   },
   {
    "duration": 47,
    "start_time": "2024-09-25T15:47:09.411Z"
   },
   {
    "duration": 18,
    "start_time": "2024-09-25T15:47:09.462Z"
   },
   {
    "duration": 28,
    "start_time": "2024-09-25T15:47:09.482Z"
   },
   {
    "duration": 42,
    "start_time": "2024-09-25T15:47:09.512Z"
   },
   {
    "duration": 28,
    "start_time": "2024-09-25T15:47:09.556Z"
   },
   {
    "duration": 18,
    "start_time": "2024-09-25T15:47:09.588Z"
   },
   {
    "duration": 47,
    "start_time": "2024-09-25T15:47:09.608Z"
   },
   {
    "duration": 19,
    "start_time": "2024-09-25T15:47:09.657Z"
   },
   {
    "duration": 102,
    "start_time": "2024-09-25T15:47:09.677Z"
   },
   {
    "duration": 243,
    "start_time": "2024-09-25T15:47:09.781Z"
   },
   {
    "duration": 278,
    "start_time": "2024-09-25T15:47:10.026Z"
   },
   {
    "duration": 246,
    "start_time": "2024-09-25T15:47:10.306Z"
   },
   {
    "duration": 97,
    "start_time": "2024-09-25T15:47:10.554Z"
   },
   {
    "duration": 7,
    "start_time": "2024-09-25T15:47:10.652Z"
   },
   {
    "duration": 25,
    "start_time": "2024-09-25T15:47:10.662Z"
   },
   {
    "duration": 29,
    "start_time": "2024-09-25T15:48:05.522Z"
   },
   {
    "duration": 13,
    "start_time": "2024-09-25T15:49:51.991Z"
   },
   {
    "duration": 225,
    "start_time": "2024-09-25T15:50:19.847Z"
   },
   {
    "duration": 6,
    "start_time": "2024-09-25T15:50:50.212Z"
   },
   {
    "duration": 172,
    "start_time": "2024-09-25T15:50:50.491Z"
   },
   {
    "duration": 14,
    "start_time": "2024-09-25T15:50:50.838Z"
   },
   {
    "duration": 859,
    "start_time": "2024-09-25T15:51:05.641Z"
   },
   {
    "duration": 477,
    "start_time": "2024-09-25T15:51:06.502Z"
   },
   {
    "duration": 101,
    "start_time": "2024-09-25T15:51:06.981Z"
   },
   {
    "duration": 17,
    "start_time": "2024-09-25T15:51:07.084Z"
   },
   {
    "duration": 108,
    "start_time": "2024-09-25T15:51:07.104Z"
   },
   {
    "duration": 3,
    "start_time": "2024-09-25T15:51:07.214Z"
   },
   {
    "duration": 40,
    "start_time": "2024-09-25T15:51:07.219Z"
   },
   {
    "duration": 18,
    "start_time": "2024-09-25T15:51:07.261Z"
   },
   {
    "duration": 27,
    "start_time": "2024-09-25T15:51:07.281Z"
   },
   {
    "duration": 40,
    "start_time": "2024-09-25T15:51:07.310Z"
   },
   {
    "duration": 27,
    "start_time": "2024-09-25T15:51:07.352Z"
   },
   {
    "duration": 16,
    "start_time": "2024-09-25T15:51:07.381Z"
   },
   {
    "duration": 45,
    "start_time": "2024-09-25T15:51:07.400Z"
   },
   {
    "duration": 18,
    "start_time": "2024-09-25T15:51:07.449Z"
   },
   {
    "duration": 25,
    "start_time": "2024-09-25T15:51:07.469Z"
   },
   {
    "duration": 18,
    "start_time": "2024-09-25T15:51:07.496Z"
   },
   {
    "duration": 108,
    "start_time": "2024-09-25T15:51:07.516Z"
   },
   {
    "duration": 248,
    "start_time": "2024-09-25T15:51:07.625Z"
   },
   {
    "duration": 277,
    "start_time": "2024-09-25T15:51:07.875Z"
   },
   {
    "duration": 250,
    "start_time": "2024-09-25T15:51:08.154Z"
   },
   {
    "duration": 103,
    "start_time": "2024-09-25T15:51:08.405Z"
   },
   {
    "duration": 3,
    "start_time": "2024-09-25T15:51:08.509Z"
   },
   {
    "duration": 30,
    "start_time": "2024-09-25T15:51:08.513Z"
   },
   {
    "duration": 384,
    "start_time": "2024-09-25T15:51:08.545Z"
   },
   {
    "duration": 23,
    "start_time": "2024-09-25T15:51:08.931Z"
   },
   {
    "duration": 26,
    "start_time": "2024-09-25T15:55:08.512Z"
   },
   {
    "duration": 83,
    "start_time": "2024-09-25T15:55:09.836Z"
   },
   {
    "duration": 863,
    "start_time": "2024-09-25T15:55:26.726Z"
   },
   {
    "duration": 0,
    "start_time": "2024-09-25T15:55:27.590Z"
   },
   {
    "duration": 35,
    "start_time": "2024-09-25T15:55:46.383Z"
   },
   {
    "duration": 37,
    "start_time": "2024-09-25T15:56:09.841Z"
   },
   {
    "duration": 41,
    "start_time": "2024-09-25T15:56:35.420Z"
   },
   {
    "duration": 728,
    "start_time": "2024-09-25T15:57:16.234Z"
   },
   {
    "duration": 414,
    "start_time": "2024-09-25T15:57:16.964Z"
   },
   {
    "duration": 101,
    "start_time": "2024-09-25T15:57:17.380Z"
   },
   {
    "duration": 13,
    "start_time": "2024-09-25T15:57:17.483Z"
   },
   {
    "duration": 101,
    "start_time": "2024-09-25T15:57:17.498Z"
   },
   {
    "duration": 2,
    "start_time": "2024-09-25T15:57:17.601Z"
   },
   {
    "duration": 38,
    "start_time": "2024-09-25T15:57:17.605Z"
   },
   {
    "duration": 18,
    "start_time": "2024-09-25T15:57:17.645Z"
   },
   {
    "duration": 30,
    "start_time": "2024-09-25T15:57:17.665Z"
   },
   {
    "duration": 18,
    "start_time": "2024-09-25T15:57:17.696Z"
   },
   {
    "duration": 46,
    "start_time": "2024-09-25T15:57:17.715Z"
   },
   {
    "duration": 15,
    "start_time": "2024-09-25T15:57:17.763Z"
   },
   {
    "duration": 25,
    "start_time": "2024-09-25T15:57:17.780Z"
   },
   {
    "duration": 35,
    "start_time": "2024-09-25T15:57:17.808Z"
   },
   {
    "duration": 26,
    "start_time": "2024-09-25T15:57:17.844Z"
   },
   {
    "duration": 17,
    "start_time": "2024-09-25T15:57:17.871Z"
   },
   {
    "duration": 104,
    "start_time": "2024-09-25T15:57:17.891Z"
   },
   {
    "duration": 225,
    "start_time": "2024-09-25T15:57:17.997Z"
   },
   {
    "duration": 256,
    "start_time": "2024-09-25T15:57:18.223Z"
   },
   {
    "duration": 226,
    "start_time": "2024-09-25T15:57:18.481Z"
   },
   {
    "duration": 35,
    "start_time": "2024-09-25T15:57:18.709Z"
   },
   {
    "duration": 83,
    "start_time": "2024-09-25T15:57:18.746Z"
   },
   {
    "duration": 3,
    "start_time": "2024-09-25T15:57:18.842Z"
   },
   {
    "duration": 11,
    "start_time": "2024-09-25T15:57:18.846Z"
   },
   {
    "duration": 346,
    "start_time": "2024-09-25T15:57:18.859Z"
   },
   {
    "duration": 13,
    "start_time": "2024-09-25T15:57:19.207Z"
   },
   {
    "duration": 875,
    "start_time": "2024-09-25T15:58:01.849Z"
   },
   {
    "duration": 777,
    "start_time": "2024-09-25T15:58:08.993Z"
   },
   {
    "duration": 415,
    "start_time": "2024-09-25T15:58:09.773Z"
   },
   {
    "duration": 103,
    "start_time": "2024-09-25T15:58:10.189Z"
   },
   {
    "duration": 14,
    "start_time": "2024-09-25T15:58:10.294Z"
   },
   {
    "duration": 107,
    "start_time": "2024-09-25T15:58:10.311Z"
   },
   {
    "duration": 2,
    "start_time": "2024-09-25T15:58:10.420Z"
   },
   {
    "duration": 32,
    "start_time": "2024-09-25T15:58:10.424Z"
   },
   {
    "duration": 16,
    "start_time": "2024-09-25T15:58:10.458Z"
   },
   {
    "duration": 36,
    "start_time": "2024-09-25T15:58:10.476Z"
   },
   {
    "duration": 40,
    "start_time": "2024-09-25T15:58:10.513Z"
   },
   {
    "duration": 26,
    "start_time": "2024-09-25T15:58:10.556Z"
   },
   {
    "duration": 16,
    "start_time": "2024-09-25T15:58:10.584Z"
   },
   {
    "duration": 43,
    "start_time": "2024-09-25T15:58:10.601Z"
   },
   {
    "duration": 18,
    "start_time": "2024-09-25T15:58:10.647Z"
   },
   {
    "duration": 25,
    "start_time": "2024-09-25T15:58:10.666Z"
   },
   {
    "duration": 18,
    "start_time": "2024-09-25T15:58:10.692Z"
   },
   {
    "duration": 112,
    "start_time": "2024-09-25T15:58:10.712Z"
   },
   {
    "duration": 232,
    "start_time": "2024-09-25T15:58:10.825Z"
   },
   {
    "duration": 259,
    "start_time": "2024-09-25T15:58:11.060Z"
   },
   {
    "duration": 222,
    "start_time": "2024-09-25T15:58:11.321Z"
   },
   {
    "duration": 25,
    "start_time": "2024-09-25T15:58:11.545Z"
   },
   {
    "duration": 84,
    "start_time": "2024-09-25T15:58:11.572Z"
   },
   {
    "duration": 2,
    "start_time": "2024-09-25T15:58:11.658Z"
   },
   {
    "duration": 615,
    "start_time": "2024-09-25T15:58:11.662Z"
   },
   {
    "duration": 0,
    "start_time": "2024-09-25T15:58:12.279Z"
   },
   {
    "duration": 0,
    "start_time": "2024-09-25T15:58:12.280Z"
   },
   {
    "duration": 329,
    "start_time": "2024-09-25T15:58:28.478Z"
   },
   {
    "duration": 800,
    "start_time": "2024-09-25T15:59:41.646Z"
   },
   {
    "duration": 420,
    "start_time": "2024-09-25T15:59:42.448Z"
   },
   {
    "duration": 101,
    "start_time": "2024-09-25T15:59:42.871Z"
   },
   {
    "duration": 15,
    "start_time": "2024-09-25T15:59:42.974Z"
   },
   {
    "duration": 99,
    "start_time": "2024-09-25T15:59:42.990Z"
   },
   {
    "duration": 2,
    "start_time": "2024-09-25T15:59:43.091Z"
   },
   {
    "duration": 25,
    "start_time": "2024-09-25T15:59:43.095Z"
   },
   {
    "duration": 31,
    "start_time": "2024-09-25T15:59:43.121Z"
   },
   {
    "duration": 25,
    "start_time": "2024-09-25T15:59:43.156Z"
   },
   {
    "duration": 15,
    "start_time": "2024-09-25T15:59:43.183Z"
   },
   {
    "duration": 43,
    "start_time": "2024-09-25T15:59:43.200Z"
   },
   {
    "duration": 15,
    "start_time": "2024-09-25T15:59:43.245Z"
   },
   {
    "duration": 25,
    "start_time": "2024-09-25T15:59:43.261Z"
   },
   {
    "duration": 15,
    "start_time": "2024-09-25T15:59:43.288Z"
   },
   {
    "duration": 44,
    "start_time": "2024-09-25T15:59:43.304Z"
   },
   {
    "duration": 16,
    "start_time": "2024-09-25T15:59:43.350Z"
   },
   {
    "duration": 98,
    "start_time": "2024-09-25T15:59:43.368Z"
   },
   {
    "duration": 242,
    "start_time": "2024-09-25T15:59:43.467Z"
   },
   {
    "duration": 252,
    "start_time": "2024-09-25T15:59:43.711Z"
   },
   {
    "duration": 219,
    "start_time": "2024-09-25T15:59:43.964Z"
   },
   {
    "duration": 22,
    "start_time": "2024-09-25T15:59:44.184Z"
   },
   {
    "duration": 73,
    "start_time": "2024-09-25T15:59:44.208Z"
   },
   {
    "duration": 3,
    "start_time": "2024-09-25T15:59:44.283Z"
   },
   {
    "duration": 317,
    "start_time": "2024-09-25T15:59:44.287Z"
   },
   {
    "duration": 9,
    "start_time": "2024-09-25T15:59:44.606Z"
   },
   {
    "duration": 168,
    "start_time": "2024-09-25T23:13:20.007Z"
   },
   {
    "duration": 769,
    "start_time": "2024-09-25T23:13:25.777Z"
   },
   {
    "duration": 495,
    "start_time": "2024-09-25T23:13:26.548Z"
   },
   {
    "duration": 95,
    "start_time": "2024-09-25T23:13:27.045Z"
   },
   {
    "duration": 13,
    "start_time": "2024-09-25T23:13:27.142Z"
   },
   {
    "duration": 98,
    "start_time": "2024-09-25T23:13:27.157Z"
   },
   {
    "duration": 2,
    "start_time": "2024-09-25T23:13:27.257Z"
   },
   {
    "duration": 25,
    "start_time": "2024-09-25T23:13:27.260Z"
   },
   {
    "duration": 31,
    "start_time": "2024-09-25T23:13:27.287Z"
   },
   {
    "duration": 24,
    "start_time": "2024-09-25T23:13:27.320Z"
   },
   {
    "duration": 15,
    "start_time": "2024-09-25T23:13:27.346Z"
   },
   {
    "duration": 44,
    "start_time": "2024-09-25T23:13:27.362Z"
   },
   {
    "duration": 15,
    "start_time": "2024-09-25T23:13:27.407Z"
   },
   {
    "duration": 26,
    "start_time": "2024-09-25T23:13:27.423Z"
   },
   {
    "duration": 16,
    "start_time": "2024-09-25T23:13:27.453Z"
   },
   {
    "duration": 47,
    "start_time": "2024-09-25T23:13:27.470Z"
   },
   {
    "duration": 17,
    "start_time": "2024-09-25T23:13:27.519Z"
   },
   {
    "duration": 99,
    "start_time": "2024-09-25T23:13:27.538Z"
   },
   {
    "duration": 235,
    "start_time": "2024-09-25T23:13:27.639Z"
   },
   {
    "duration": 253,
    "start_time": "2024-09-25T23:13:27.876Z"
   },
   {
    "duration": 220,
    "start_time": "2024-09-25T23:13:28.130Z"
   },
   {
    "duration": 22,
    "start_time": "2024-09-25T23:13:28.351Z"
   },
   {
    "duration": 74,
    "start_time": "2024-09-25T23:13:28.375Z"
   },
   {
    "duration": 3,
    "start_time": "2024-09-25T23:13:28.451Z"
   },
   {
    "duration": 351,
    "start_time": "2024-09-25T23:13:28.455Z"
   },
   {
    "duration": 680,
    "start_time": "2024-09-25T23:13:28.808Z"
   },
   {
    "duration": 215,
    "start_time": "2024-09-25T23:13:44.665Z"
   },
   {
    "duration": 5,
    "start_time": "2024-09-25T23:14:01.145Z"
   },
   {
    "duration": 3,
    "start_time": "2024-09-25T23:14:09.479Z"
   },
   {
    "duration": 1299,
    "start_time": "2024-09-25T23:14:15.242Z"
   },
   {
    "duration": 434032,
    "start_time": "2024-09-25T23:15:46.220Z"
   },
   {
    "duration": 3,
    "start_time": "2024-09-25T23:23:23.120Z"
   },
   {
    "duration": 52,
    "start_time": "2024-09-25T23:25:03.134Z"
   },
   {
    "duration": 153,
    "start_time": "2024-09-25T23:33:28.929Z"
   },
   {
    "duration": 946,
    "start_time": "2024-09-25T23:35:08.109Z"
   },
   {
    "duration": 475,
    "start_time": "2024-09-25T23:35:09.057Z"
   },
   {
    "duration": 95,
    "start_time": "2024-09-25T23:35:09.534Z"
   },
   {
    "duration": 14,
    "start_time": "2024-09-25T23:35:09.631Z"
   },
   {
    "duration": 102,
    "start_time": "2024-09-25T23:35:09.647Z"
   },
   {
    "duration": 3,
    "start_time": "2024-09-25T23:35:09.750Z"
   },
   {
    "duration": 25,
    "start_time": "2024-09-25T23:35:09.754Z"
   },
   {
    "duration": 31,
    "start_time": "2024-09-25T23:35:09.780Z"
   },
   {
    "duration": 25,
    "start_time": "2024-09-25T23:35:09.812Z"
   },
   {
    "duration": 15,
    "start_time": "2024-09-25T23:35:09.839Z"
   },
   {
    "duration": 26,
    "start_time": "2024-09-25T23:35:09.855Z"
   },
   {
    "duration": 14,
    "start_time": "2024-09-25T23:35:09.905Z"
   },
   {
    "duration": 25,
    "start_time": "2024-09-25T23:35:09.920Z"
   },
   {
    "duration": 14,
    "start_time": "2024-09-25T23:35:09.948Z"
   },
   {
    "duration": 44,
    "start_time": "2024-09-25T23:35:09.964Z"
   },
   {
    "duration": 17,
    "start_time": "2024-09-25T23:35:10.009Z"
   },
   {
    "duration": 98,
    "start_time": "2024-09-25T23:35:10.027Z"
   },
   {
    "duration": 238,
    "start_time": "2024-09-25T23:35:10.127Z"
   },
   {
    "duration": 244,
    "start_time": "2024-09-25T23:35:10.367Z"
   },
   {
    "duration": 232,
    "start_time": "2024-09-25T23:35:10.613Z"
   },
   {
    "duration": 24,
    "start_time": "2024-09-25T23:35:10.846Z"
   },
   {
    "duration": 73,
    "start_time": "2024-09-25T23:35:10.872Z"
   },
   {
    "duration": 3,
    "start_time": "2024-09-25T23:35:10.947Z"
   },
   {
    "duration": 346,
    "start_time": "2024-09-25T23:35:10.951Z"
   },
   {
    "duration": 720,
    "start_time": "2024-09-25T23:35:11.299Z"
   },
   {
    "duration": 1333,
    "start_time": "2024-09-25T23:35:12.021Z"
   },
   {
    "duration": 425674,
    "start_time": "2024-09-25T23:35:13.356Z"
   },
   {
    "duration": 927,
    "start_time": "2024-09-26T01:52:40.847Z"
   },
   {
    "duration": 473,
    "start_time": "2024-09-26T01:52:41.777Z"
   },
   {
    "duration": 95,
    "start_time": "2024-09-26T01:52:42.252Z"
   },
   {
    "duration": 13,
    "start_time": "2024-09-26T01:52:42.349Z"
   },
   {
    "duration": 105,
    "start_time": "2024-09-26T01:52:42.364Z"
   },
   {
    "duration": 2,
    "start_time": "2024-09-26T01:52:42.471Z"
   },
   {
    "duration": 38,
    "start_time": "2024-09-26T01:52:42.475Z"
   },
   {
    "duration": 15,
    "start_time": "2024-09-26T01:52:42.516Z"
   },
   {
    "duration": 26,
    "start_time": "2024-09-26T01:52:42.532Z"
   },
   {
    "duration": 15,
    "start_time": "2024-09-26T01:52:42.561Z"
   },
   {
    "duration": 42,
    "start_time": "2024-09-26T01:52:42.578Z"
   },
   {
    "duration": 15,
    "start_time": "2024-09-26T01:52:42.622Z"
   },
   {
    "duration": 25,
    "start_time": "2024-09-26T01:52:42.639Z"
   },
   {
    "duration": 39,
    "start_time": "2024-09-26T01:52:42.665Z"
   },
   {
    "duration": 33,
    "start_time": "2024-09-26T01:52:42.707Z"
   },
   {
    "duration": 18,
    "start_time": "2024-09-26T01:52:42.742Z"
   },
   {
    "duration": 101,
    "start_time": "2024-09-26T01:52:42.761Z"
   },
   {
    "duration": 232,
    "start_time": "2024-09-26T01:52:42.863Z"
   },
   {
    "duration": 251,
    "start_time": "2024-09-26T01:52:43.097Z"
   },
   {
    "duration": 217,
    "start_time": "2024-09-26T01:52:43.349Z"
   },
   {
    "duration": 22,
    "start_time": "2024-09-26T01:52:43.568Z"
   },
   {
    "duration": 74,
    "start_time": "2024-09-26T01:52:43.591Z"
   },
   {
    "duration": 2,
    "start_time": "2024-09-26T01:52:43.668Z"
   },
   {
    "duration": 342,
    "start_time": "2024-09-26T01:52:43.672Z"
   },
   {
    "duration": 699,
    "start_time": "2024-09-26T01:52:44.015Z"
   },
   {
    "duration": 1320,
    "start_time": "2024-09-26T01:52:44.716Z"
   },
   {
    "duration": 431323,
    "start_time": "2024-09-26T01:52:46.038Z"
   },
   {
    "duration": 163,
    "start_time": "2024-09-26T02:02:53.025Z"
   },
   {
    "duration": 940,
    "start_time": "2024-09-26T02:02:58.622Z"
   },
   {
    "duration": 472,
    "start_time": "2024-09-26T02:02:59.564Z"
   },
   {
    "duration": 95,
    "start_time": "2024-09-26T02:03:00.038Z"
   },
   {
    "duration": 13,
    "start_time": "2024-09-26T02:03:00.135Z"
   },
   {
    "duration": 99,
    "start_time": "2024-09-26T02:03:00.149Z"
   },
   {
    "duration": 3,
    "start_time": "2024-09-26T02:03:00.249Z"
   },
   {
    "duration": 24,
    "start_time": "2024-09-26T02:03:00.253Z"
   },
   {
    "duration": 30,
    "start_time": "2024-09-26T02:03:00.279Z"
   },
   {
    "duration": 25,
    "start_time": "2024-09-26T02:03:00.311Z"
   },
   {
    "duration": 14,
    "start_time": "2024-09-26T02:03:00.339Z"
   },
   {
    "duration": 24,
    "start_time": "2024-09-26T02:03:00.355Z"
   },
   {
    "duration": 36,
    "start_time": "2024-09-26T02:03:00.381Z"
   },
   {
    "duration": 27,
    "start_time": "2024-09-26T02:03:00.419Z"
   },
   {
    "duration": 16,
    "start_time": "2024-09-26T02:03:00.448Z"
   },
   {
    "duration": 37,
    "start_time": "2024-09-26T02:03:00.471Z"
   },
   {
    "duration": 16,
    "start_time": "2024-09-26T02:03:00.509Z"
   },
   {
    "duration": 99,
    "start_time": "2024-09-26T02:03:00.527Z"
   },
   {
    "duration": 225,
    "start_time": "2024-09-26T02:03:00.627Z"
   },
   {
    "duration": 246,
    "start_time": "2024-09-26T02:03:00.854Z"
   },
   {
    "duration": 231,
    "start_time": "2024-09-26T02:03:01.104Z"
   },
   {
    "duration": 22,
    "start_time": "2024-09-26T02:03:01.337Z"
   },
   {
    "duration": 75,
    "start_time": "2024-09-26T02:03:01.361Z"
   },
   {
    "duration": 3,
    "start_time": "2024-09-26T02:03:01.437Z"
   },
   {
    "duration": 320,
    "start_time": "2024-09-26T02:03:01.441Z"
   },
   {
    "duration": 730,
    "start_time": "2024-09-26T02:03:01.763Z"
   },
   {
    "duration": 1307,
    "start_time": "2024-09-26T02:03:02.495Z"
   },
   {
    "duration": 427076,
    "start_time": "2024-09-26T02:03:03.805Z"
   },
   {
    "duration": 286,
    "start_time": "2024-09-26T02:10:10.885Z"
   },
   {
    "duration": 24,
    "start_time": "2024-09-26T02:11:47.025Z"
   },
   {
    "duration": 1767,
    "start_time": "2024-09-26T02:12:54.951Z"
   },
   {
    "duration": 4,
    "start_time": "2024-09-26T02:13:26.265Z"
   },
   {
    "duration": 169,
    "start_time": "2024-09-26T02:16:02.728Z"
   },
   {
    "duration": 885,
    "start_time": "2024-09-26T02:16:46.279Z"
   },
   {
    "duration": 462,
    "start_time": "2024-09-26T02:16:47.166Z"
   },
   {
    "duration": 95,
    "start_time": "2024-09-26T02:16:47.630Z"
   },
   {
    "duration": 14,
    "start_time": "2024-09-26T02:16:47.728Z"
   },
   {
    "duration": 103,
    "start_time": "2024-09-26T02:16:47.744Z"
   },
   {
    "duration": 2,
    "start_time": "2024-09-26T02:16:47.849Z"
   },
   {
    "duration": 24,
    "start_time": "2024-09-26T02:16:47.852Z"
   },
   {
    "duration": 30,
    "start_time": "2024-09-26T02:16:47.878Z"
   },
   {
    "duration": 25,
    "start_time": "2024-09-26T02:16:47.910Z"
   },
   {
    "duration": 14,
    "start_time": "2024-09-26T02:16:47.937Z"
   },
   {
    "duration": 25,
    "start_time": "2024-09-26T02:16:47.953Z"
   },
   {
    "duration": 34,
    "start_time": "2024-09-26T02:16:47.980Z"
   },
   {
    "duration": 26,
    "start_time": "2024-09-26T02:16:48.015Z"
   },
   {
    "duration": 14,
    "start_time": "2024-09-26T02:16:48.046Z"
   },
   {
    "duration": 44,
    "start_time": "2024-09-26T02:16:48.062Z"
   },
   {
    "duration": 16,
    "start_time": "2024-09-26T02:16:48.108Z"
   },
   {
    "duration": 93,
    "start_time": "2024-09-26T02:16:48.126Z"
   },
   {
    "duration": 234,
    "start_time": "2024-09-26T02:16:48.221Z"
   },
   {
    "duration": 249,
    "start_time": "2024-09-26T02:16:48.457Z"
   },
   {
    "duration": 260,
    "start_time": "2024-09-26T02:16:48.707Z"
   },
   {
    "duration": 22,
    "start_time": "2024-09-26T02:16:48.969Z"
   },
   {
    "duration": 72,
    "start_time": "2024-09-26T02:16:48.993Z"
   },
   {
    "duration": 2,
    "start_time": "2024-09-26T02:16:49.067Z"
   },
   {
    "duration": 345,
    "start_time": "2024-09-26T02:16:49.071Z"
   },
   {
    "duration": 712,
    "start_time": "2024-09-26T02:16:49.418Z"
   },
   {
    "duration": 1317,
    "start_time": "2024-09-26T02:16:50.132Z"
   },
   {
    "duration": 425898,
    "start_time": "2024-09-26T02:16:51.450Z"
   },
   {
    "duration": 1806,
    "start_time": "2024-09-26T02:23:57.350Z"
   },
   {
    "duration": 259,
    "start_time": "2024-09-26T02:23:59.157Z"
   },
   {
    "duration": 922,
    "start_time": "2024-09-26T02:32:49.933Z"
   },
   {
    "duration": 405,
    "start_time": "2024-09-26T02:32:50.858Z"
   },
   {
    "duration": 97,
    "start_time": "2024-09-26T02:32:51.265Z"
   },
   {
    "duration": 14,
    "start_time": "2024-09-26T02:32:51.364Z"
   },
   {
    "duration": 99,
    "start_time": "2024-09-26T02:32:51.379Z"
   },
   {
    "duration": 2,
    "start_time": "2024-09-26T02:32:51.479Z"
   },
   {
    "duration": 37,
    "start_time": "2024-09-26T02:32:51.483Z"
   },
   {
    "duration": 14,
    "start_time": "2024-09-26T02:32:51.522Z"
   },
   {
    "duration": 24,
    "start_time": "2024-09-26T02:32:51.538Z"
   },
   {
    "duration": 39,
    "start_time": "2024-09-26T02:32:51.566Z"
   },
   {
    "duration": 27,
    "start_time": "2024-09-26T02:32:51.607Z"
   },
   {
    "duration": 14,
    "start_time": "2024-09-26T02:32:51.635Z"
   },
   {
    "duration": 26,
    "start_time": "2024-09-26T02:32:51.650Z"
   },
   {
    "duration": 31,
    "start_time": "2024-09-26T02:32:51.678Z"
   },
   {
    "duration": 25,
    "start_time": "2024-09-26T02:32:51.711Z"
   },
   {
    "duration": 17,
    "start_time": "2024-09-26T02:32:51.738Z"
   },
   {
    "duration": 110,
    "start_time": "2024-09-26T02:32:51.757Z"
   },
   {
    "duration": 221,
    "start_time": "2024-09-26T02:32:51.868Z"
   },
   {
    "duration": 238,
    "start_time": "2024-09-26T02:32:52.091Z"
   },
   {
    "duration": 241,
    "start_time": "2024-09-26T02:32:52.331Z"
   },
   {
    "duration": 31,
    "start_time": "2024-09-26T02:32:52.574Z"
   },
   {
    "duration": 70,
    "start_time": "2024-09-26T02:32:52.607Z"
   },
   {
    "duration": 3,
    "start_time": "2024-09-26T02:32:52.678Z"
   },
   {
    "duration": 354,
    "start_time": "2024-09-26T02:32:52.682Z"
   },
   {
    "duration": 700,
    "start_time": "2024-09-26T02:32:53.038Z"
   },
   {
    "duration": 1312,
    "start_time": "2024-09-26T02:32:53.740Z"
   },
   {
    "duration": 427123,
    "start_time": "2024-09-26T02:32:55.054Z"
   },
   {
    "duration": 1873,
    "start_time": "2024-09-26T02:40:02.181Z"
   },
   {
    "duration": 343,
    "start_time": "2024-09-26T02:40:04.056Z"
   },
   {
    "duration": 4,
    "start_time": "2024-09-26T02:41:26.037Z"
   },
   {
    "duration": 51260,
    "start_time": "2024-09-26T02:41:52.790Z"
   },
   {
    "duration": 920,
    "start_time": "2024-09-26T14:17:42.773Z"
   },
   {
    "duration": 464,
    "start_time": "2024-09-26T14:17:43.695Z"
   },
   {
    "duration": 96,
    "start_time": "2024-09-26T14:17:44.161Z"
   },
   {
    "duration": 12,
    "start_time": "2024-09-26T14:17:44.260Z"
   },
   {
    "duration": 101,
    "start_time": "2024-09-26T14:17:44.274Z"
   },
   {
    "duration": 2,
    "start_time": "2024-09-26T14:17:44.378Z"
   },
   {
    "duration": 24,
    "start_time": "2024-09-26T14:17:44.382Z"
   },
   {
    "duration": 26,
    "start_time": "2024-09-26T14:17:44.408Z"
   },
   {
    "duration": 24,
    "start_time": "2024-09-26T14:17:44.436Z"
   },
   {
    "duration": 15,
    "start_time": "2024-09-26T14:17:44.463Z"
   },
   {
    "duration": 25,
    "start_time": "2024-09-26T14:17:44.480Z"
   },
   {
    "duration": 36,
    "start_time": "2024-09-26T14:17:44.507Z"
   },
   {
    "duration": 30,
    "start_time": "2024-09-26T14:17:44.545Z"
   },
   {
    "duration": 15,
    "start_time": "2024-09-26T14:17:44.578Z"
   },
   {
    "duration": 37,
    "start_time": "2024-09-26T14:17:44.594Z"
   },
   {
    "duration": 16,
    "start_time": "2024-09-26T14:17:44.633Z"
   },
   {
    "duration": 93,
    "start_time": "2024-09-26T14:17:44.650Z"
   },
   {
    "duration": 232,
    "start_time": "2024-09-26T14:17:44.745Z"
   },
   {
    "duration": 243,
    "start_time": "2024-09-26T14:17:44.979Z"
   },
   {
    "duration": 212,
    "start_time": "2024-09-26T14:17:45.224Z"
   },
   {
    "duration": 21,
    "start_time": "2024-09-26T14:17:45.438Z"
   },
   {
    "duration": 72,
    "start_time": "2024-09-26T14:17:45.460Z"
   },
   {
    "duration": 2,
    "start_time": "2024-09-26T14:17:45.534Z"
   },
   {
    "duration": 331,
    "start_time": "2024-09-26T14:17:45.537Z"
   },
   {
    "duration": 687,
    "start_time": "2024-09-26T14:17:45.869Z"
   },
   {
    "duration": 1241,
    "start_time": "2024-09-26T14:17:46.557Z"
   },
   {
    "duration": 408496,
    "start_time": "2024-09-26T14:17:47.800Z"
   },
   {
    "duration": 1790,
    "start_time": "2024-09-26T14:24:36.300Z"
   },
   {
    "duration": 52661,
    "start_time": "2024-09-26T14:24:38.092Z"
   },
   {
    "duration": 908,
    "start_time": "2024-09-26T15:20:03.601Z"
   },
   {
    "duration": 472,
    "start_time": "2024-09-26T15:20:04.512Z"
   },
   {
    "duration": 94,
    "start_time": "2024-09-26T15:20:04.986Z"
   },
   {
    "duration": 13,
    "start_time": "2024-09-26T15:20:05.082Z"
   },
   {
    "duration": 106,
    "start_time": "2024-09-26T15:20:05.098Z"
   },
   {
    "duration": 2,
    "start_time": "2024-09-26T15:20:05.206Z"
   },
   {
    "duration": 44,
    "start_time": "2024-09-26T15:20:05.211Z"
   },
   {
    "duration": 15,
    "start_time": "2024-09-26T15:20:05.257Z"
   },
   {
    "duration": 25,
    "start_time": "2024-09-26T15:20:05.274Z"
   },
   {
    "duration": 17,
    "start_time": "2024-09-26T15:20:05.301Z"
   },
   {
    "duration": 27,
    "start_time": "2024-09-26T15:20:05.334Z"
   },
   {
    "duration": 15,
    "start_time": "2024-09-26T15:20:05.363Z"
   },
   {
    "duration": 25,
    "start_time": "2024-09-26T15:20:05.380Z"
   },
   {
    "duration": 16,
    "start_time": "2024-09-26T15:20:05.430Z"
   },
   {
    "duration": 24,
    "start_time": "2024-09-26T15:20:05.448Z"
   },
   {
    "duration": 17,
    "start_time": "2024-09-26T15:20:05.474Z"
   },
   {
    "duration": 115,
    "start_time": "2024-09-26T15:20:05.493Z"
   },
   {
    "duration": 231,
    "start_time": "2024-09-26T15:20:05.609Z"
   },
   {
    "duration": 248,
    "start_time": "2024-09-26T15:20:05.843Z"
   },
   {
    "duration": 225,
    "start_time": "2024-09-26T15:20:06.093Z"
   },
   {
    "duration": 28,
    "start_time": "2024-09-26T15:20:06.320Z"
   },
   {
    "duration": 62,
    "start_time": "2024-09-26T15:20:06.350Z"
   },
   {
    "duration": 4,
    "start_time": "2024-09-26T15:20:06.414Z"
   },
   {
    "duration": 332,
    "start_time": "2024-09-26T15:20:06.419Z"
   },
   {
    "duration": 679,
    "start_time": "2024-09-26T15:20:06.753Z"
   },
   {
    "duration": 1275,
    "start_time": "2024-09-26T15:20:07.434Z"
   },
   {
    "duration": 409045,
    "start_time": "2024-09-26T15:20:08.711Z"
   },
   {
    "duration": 1802,
    "start_time": "2024-09-26T15:26:57.759Z"
   },
   {
    "duration": 50270,
    "start_time": "2024-09-26T15:26:59.563Z"
   },
   {
    "duration": 9,
    "start_time": "2024-09-26T15:27:49.835Z"
   },
   {
    "duration": 229,
    "start_time": "2024-09-26T15:28:26.822Z"
   },
   {
    "duration": 9,
    "start_time": "2024-09-26T15:30:08.743Z"
   },
   {
    "duration": 31051,
    "start_time": "2024-09-26T15:30:15.182Z"
   },
   {
    "duration": 8,
    "start_time": "2024-09-26T15:36:06.630Z"
   },
   {
    "duration": 30968,
    "start_time": "2024-09-26T15:36:15.809Z"
   },
   {
    "duration": 31227,
    "start_time": "2024-09-26T15:39:31.647Z"
   },
   {
    "duration": 8,
    "start_time": "2024-09-26T16:53:05.505Z"
   },
   {
    "duration": 5,
    "start_time": "2024-09-26T16:53:53.474Z"
   }
  ],
  "kernelspec": {
   "display_name": "Python 3 (ipykernel)",
   "language": "python",
   "name": "python3"
  },
  "language_info": {
   "codemirror_mode": {
    "name": "ipython",
    "version": 3
   },
   "file_extension": ".py",
   "mimetype": "text/x-python",
   "name": "python",
   "nbconvert_exporter": "python",
   "pygments_lexer": "ipython3",
   "version": "3.9.19"
  },
  "toc": {
   "base_numbering": 1,
   "nav_menu": {},
   "number_sections": true,
   "sideBar": true,
   "skip_h1_title": true,
   "title_cell": "Table of Contents",
   "title_sidebar": "Contents",
   "toc_cell": false,
   "toc_position": {},
   "toc_section_display": true,
   "toc_window_display": false
  }
 },
 "nbformat": 4,
 "nbformat_minor": 2
}
